{
 "cells": [
  {
   "cell_type": "code",
   "execution_count": 1,
   "metadata": {
    "pycharm": {
     "is_executing": false
    }
   },
   "outputs": [],
   "source": [
    "import pandas as pd\n",
    "import numpy as np"
   ]
  },
  {
   "cell_type": "code",
   "execution_count": 2,
   "metadata": {
    "pycharm": {
     "is_executing": false
    }
   },
   "outputs": [],
   "source": [
    "def generate_dataset(cov_matrix, beta, n=500, snr=1):\n",
    "    p = cov_matrix.shape[0]\n",
    "    mean = np.zeros(p)\n",
    "    X = np.random.multivariate_normal(mean, cov_matrix, size=n)\n",
    "    X_beta = np.multiply(X, beta)\n",
    "    epsilon = np.random.normal(0, scale=np.sqrt(np.var(X_beta)/snr))\n",
    "    y = X_beta + epsilon\n",
    "    return X, y"
   ]
  },
  {
   "cell_type": "markdown",
   "metadata": {},
   "source": [
    "## Page 836 Bertsimas"
   ]
  },
  {
   "cell_type": "markdown",
   "metadata": {},
   "source": [
    "1. "
   ]
  },
  {
   "cell_type": "code",
   "execution_count": 3,
   "metadata": {
    "pycharm": {
     "is_executing": false
    }
   },
   "outputs": [],
   "source": [
    "p = 50\n",
    "k = 5\n",
    "\n",
    "val = 1.5\n",
    "cov_matrix = np.empty(shape=[p, p])\n",
    "for i in range(cov_matrix.shape[0]):\n",
    "    for j in range(cov_matrix.shape[1]):\n",
    "        cov_matrix[i, j] = val ** np.abs(i-j)\n",
    "        \n",
    "beta = np.zeros(p)\n",
    "for i in range(k):\n",
    "    beta[i] = 1"
   ]
  },
  {
   "cell_type": "code",
   "execution_count": 4,
   "metadata": {
    "pycharm": {
     "is_executing": false
    }
   },
   "outputs": [
    {
     "name": "stderr",
     "text": [
      "/home/michal/PW/Optymalizacja/Projekt/venv/lib/python3.7/site-packages/ipykernel_launcher.py:4: RuntimeWarning: covariance is not positive-semidefinite.\n",
      "  after removing the cwd from sys.path.\n"
     ],
     "output_type": "stream"
    }
   ],
   "source": [
    "X, y = generate_dataset(cov_matrix, beta)"
   ]
  },
  {
   "cell_type": "markdown",
   "metadata": {},
   "source": [
    "2."
   ]
  },
  {
   "cell_type": "code",
   "execution_count": 5,
   "metadata": {
    "pycharm": {
     "is_executing": false
    }
   },
   "outputs": [],
   "source": [
    "p = 50\n",
    "k = 5\n",
    "\n",
    "cov_matrix = np.eye(p)\n",
    "beta = np.zeros(p)\n",
    "for i in range(k):\n",
    "    beta[i] = 1"
   ]
  },
  {
   "cell_type": "code",
   "execution_count": 6,
   "metadata": {
    "pycharm": {
     "is_executing": false
    }
   },
   "outputs": [],
   "source": [
    "X, y = generate_dataset(cov_matrix, beta)"
   ]
  },
  {
   "cell_type": "markdown",
   "metadata": {},
   "source": [
    "3. "
   ]
  },
  {
   "cell_type": "code",
   "execution_count": 7,
   "metadata": {
    "pycharm": {
     "is_executing": false
    }
   },
   "outputs": [],
   "source": [
    "p = 50\n",
    "k = 10\n",
    "\n",
    "cov_matrix = np.eye(p)\n",
    "beta = np.zeros(p)\n",
    "for i in range(k):\n",
    "    beta[i] = 0.5 + 9.5 * i/k"
   ]
  },
  {
   "cell_type": "code",
   "execution_count": 8,
   "metadata": {
    "pycharm": {
     "is_executing": false
    }
   },
   "outputs": [],
   "source": [
    "X, y = generate_dataset(cov_matrix, beta)"
   ]
  },
  {
   "cell_type": "markdown",
   "metadata": {},
   "source": [
    "4.  "
   ]
  },
  {
   "cell_type": "code",
   "execution_count": 9,
   "metadata": {
    "pycharm": {
     "is_executing": false
    }
   },
   "outputs": [],
   "source": [
    "p = 50\n",
    "\n",
    "cov_matrix = np.eye(p)\n",
    "beta_val = [-10, -6, -2, 2, 6, 10, *[0]*(p-6)]"
   ]
  },
  {
   "cell_type": "code",
   "execution_count": 10,
   "metadata": {},
   "outputs": [],
   "source": [
    "X, y = generate_dataset(cov_matrix, beta)"
   ]
  },
  {
   "cell_type": "code",
   "execution_count": null,
   "metadata": {},
   "outputs": [],
   "source": []
  }
 ],
 "metadata": {
  "kernelspec": {
   "display_name": "Python 3",
   "language": "python",
   "name": "python3"
  },
  "language_info": {
   "codemirror_mode": {
    "name": "ipython",
    "version": 3
   },
   "file_extension": ".py",
   "mimetype": "text/x-python",
   "name": "python",
   "nbconvert_exporter": "python",
   "pygments_lexer": "ipython3",
   "version": "3.7.3"
  },
  "pycharm": {
   "stem_cell": {
    "cell_type": "raw",
    "source": [],
    "metadata": {
     "collapsed": false
    }
   }
  }
 },
 "nbformat": 4,
 "nbformat_minor": 4
}